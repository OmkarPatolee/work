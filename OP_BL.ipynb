{
  "cells": [
    {
      "cell_type": "markdown",
      "metadata": {
        "id": "view-in-github",
        "colab_type": "text"
      },
      "source": [
        "<a href=\"https://colab.research.google.com/github/OmkarPatolee/work/blob/main/OP_BL.ipynb\" target=\"_parent\"><img src=\"https://colab.research.google.com/assets/colab-badge.svg\" alt=\"Open In Colab\"/></a>"
      ]
    },
    {
      "cell_type": "markdown",
      "metadata": {
        "id": "WzHr8McwAbNd"
      },
      "source": [
        "# Black-Litterman allocation\n",
        "\n",
        "The Black-Litterman method is a very powerful way of converting your views on asset returns, along with your uncertainty in these views, into a portfolio.\n",
        "\n",
        "For a description of the theory, please read the [documentation page](https://pyportfolioopt.readthedocs.io/en/latest/BlackLitterman.html) and the links therein.\n",
        "\n",
        "In this recipe, we will cover:\n",
        "\n",
        "- Downloading data for the Black-Litterman method\n",
        "- Constructing the prior return vector based on market equilibrium\n",
        "- Two ways of constructing the uncertainty matrix\n",
        "- Combining Black-Litterman with mean-variance optimization\n",
        "\n",
        "## Downloading data\n",
        "\n",
        "In addition to price data, constructing a market prior requires market-caps.\n",
        "\n",
        "\n",
        "[![Open In Colab](https://colab.research.google.com/assets/colab-badge.svg)](https://colab.research.google.com/github/robertmartin8/PyPortfolioOpt/blob/master/cookbook/4-Black-Litterman-Allocation.ipynb)\n",
        "    \n",
        "[![Kaggle](https://kaggle.com/static/images/open-in-kaggle.svg)](https://kaggle.com/kernels/welcome?src=https://github.com/robertmartin8/PyPortfolioOpt/blob/master/cookbook/4-Black-Litterman-Allocation.ipynb)\n",
        "    \n",
        "[![Gradient](https://assets.paperspace.io/img/gradient-badge.svg)](https://console.paperspace.com/github/robertmartin8/PyPortfolioOpt/blob/master/cookbook/4-Black-Litterman-Allocation.ipynb)\n",
        "    \n",
        "[![Open In SageMaker Studio Lab](https://studiolab.sagemaker.aws/studiolab.svg)](https://studiolab.sagemaker.aws/import/github/robertmartin8/PyPortfolioOpt/blob/master/cookbook/4-Black-Litterman-Allocation.ipynb)"
      ]
    },
    {
      "cell_type": "code",
      "source": [
        "!pip install pandas numpy matplotlib yfinance PyPortfolioOpt\n",
        "import os\n",
        "if not os.path.isdir('data'):\n",
        "    os.system('git clone https://github.com/robertmartin8/PyPortfolioOpt.git')\n",
        "    os.chdir('PyPortfolioOpt/cookbook')"
      ],
      "metadata": {
        "colab": {
          "base_uri": "https://localhost:8080/"
        },
        "id": "sXdbiHc0AnfS",
        "outputId": "515ed603-1351-4e18-f07b-f620deac522d"
      },
      "execution_count": 71,
      "outputs": [
        {
          "output_type": "stream",
          "name": "stdout",
          "text": [
            "Requirement already satisfied: pandas in /usr/local/lib/python3.10/dist-packages (2.2.2)\n",
            "Requirement already satisfied: numpy in /usr/local/lib/python3.10/dist-packages (1.26.4)\n",
            "Requirement already satisfied: matplotlib in /usr/local/lib/python3.10/dist-packages (3.7.1)\n",
            "Requirement already satisfied: yfinance in /usr/local/lib/python3.10/dist-packages (0.2.44)\n",
            "Requirement already satisfied: PyPortfolioOpt in /usr/local/lib/python3.10/dist-packages (1.5.5)\n",
            "Requirement already satisfied: python-dateutil>=2.8.2 in /usr/local/lib/python3.10/dist-packages (from pandas) (2.8.2)\n",
            "Requirement already satisfied: pytz>=2020.1 in /usr/local/lib/python3.10/dist-packages (from pandas) (2024.2)\n",
            "Requirement already satisfied: tzdata>=2022.7 in /usr/local/lib/python3.10/dist-packages (from pandas) (2024.2)\n",
            "Requirement already satisfied: contourpy>=1.0.1 in /usr/local/lib/python3.10/dist-packages (from matplotlib) (1.3.0)\n",
            "Requirement already satisfied: cycler>=0.10 in /usr/local/lib/python3.10/dist-packages (from matplotlib) (0.12.1)\n",
            "Requirement already satisfied: fonttools>=4.22.0 in /usr/local/lib/python3.10/dist-packages (from matplotlib) (4.54.1)\n",
            "Requirement already satisfied: kiwisolver>=1.0.1 in /usr/local/lib/python3.10/dist-packages (from matplotlib) (1.4.7)\n",
            "Requirement already satisfied: packaging>=20.0 in /usr/local/lib/python3.10/dist-packages (from matplotlib) (24.1)\n",
            "Requirement already satisfied: pillow>=6.2.0 in /usr/local/lib/python3.10/dist-packages (from matplotlib) (10.4.0)\n",
            "Requirement already satisfied: pyparsing>=2.3.1 in /usr/local/lib/python3.10/dist-packages (from matplotlib) (3.1.4)\n",
            "Requirement already satisfied: requests>=2.31 in /usr/local/lib/python3.10/dist-packages (from yfinance) (2.32.3)\n",
            "Requirement already satisfied: multitasking>=0.0.7 in /usr/local/lib/python3.10/dist-packages (from yfinance) (0.0.11)\n",
            "Requirement already satisfied: lxml>=4.9.1 in /usr/local/lib/python3.10/dist-packages (from yfinance) (4.9.4)\n",
            "Requirement already satisfied: platformdirs>=2.0.0 in /usr/local/lib/python3.10/dist-packages (from yfinance) (4.3.6)\n",
            "Requirement already satisfied: frozendict>=2.3.4 in /usr/local/lib/python3.10/dist-packages (from yfinance) (2.4.4)\n",
            "Requirement already satisfied: peewee>=3.16.2 in /usr/local/lib/python3.10/dist-packages (from yfinance) (3.17.6)\n",
            "Requirement already satisfied: beautifulsoup4>=4.11.1 in /usr/local/lib/python3.10/dist-packages (from yfinance) (4.12.3)\n",
            "Requirement already satisfied: html5lib>=1.1 in /usr/local/lib/python3.10/dist-packages (from yfinance) (1.1)\n",
            "Requirement already satisfied: cvxpy<2.0.0,>=1.1.19 in /usr/local/lib/python3.10/dist-packages (from PyPortfolioOpt) (1.5.3)\n",
            "Requirement already satisfied: scipy<2.0,>=1.3 in /usr/local/lib/python3.10/dist-packages (from PyPortfolioOpt) (1.13.1)\n",
            "Requirement already satisfied: soupsieve>1.2 in /usr/local/lib/python3.10/dist-packages (from beautifulsoup4>=4.11.1->yfinance) (2.6)\n",
            "Requirement already satisfied: osqp>=0.6.2 in /usr/local/lib/python3.10/dist-packages (from cvxpy<2.0.0,>=1.1.19->PyPortfolioOpt) (0.6.7.post0)\n",
            "Requirement already satisfied: ecos>=2 in /usr/local/lib/python3.10/dist-packages (from cvxpy<2.0.0,>=1.1.19->PyPortfolioOpt) (2.0.14)\n",
            "Requirement already satisfied: clarabel>=0.5.0 in /usr/local/lib/python3.10/dist-packages (from cvxpy<2.0.0,>=1.1.19->PyPortfolioOpt) (0.9.0)\n",
            "Requirement already satisfied: scs>=3.2.4.post1 in /usr/local/lib/python3.10/dist-packages (from cvxpy<2.0.0,>=1.1.19->PyPortfolioOpt) (3.2.7)\n",
            "Requirement already satisfied: six>=1.9 in /usr/local/lib/python3.10/dist-packages (from html5lib>=1.1->yfinance) (1.16.0)\n",
            "Requirement already satisfied: webencodings in /usr/local/lib/python3.10/dist-packages (from html5lib>=1.1->yfinance) (0.5.1)\n",
            "Requirement already satisfied: charset-normalizer<4,>=2 in /usr/local/lib/python3.10/dist-packages (from requests>=2.31->yfinance) (3.3.2)\n",
            "Requirement already satisfied: idna<4,>=2.5 in /usr/local/lib/python3.10/dist-packages (from requests>=2.31->yfinance) (3.10)\n",
            "Requirement already satisfied: urllib3<3,>=1.21.1 in /usr/local/lib/python3.10/dist-packages (from requests>=2.31->yfinance) (2.2.3)\n",
            "Requirement already satisfied: certifi>=2017.4.17 in /usr/local/lib/python3.10/dist-packages (from requests>=2.31->yfinance) (2024.8.30)\n",
            "Requirement already satisfied: qdldl in /usr/local/lib/python3.10/dist-packages (from osqp>=0.6.2->cvxpy<2.0.0,>=1.1.19->PyPortfolioOpt) (0.1.7.post4)\n"
          ]
        }
      ]
    },
    {
      "cell_type": "code",
      "execution_count": 72,
      "metadata": {
        "id": "bs5cBlLfAbNf"
      },
      "outputs": [],
      "source": [
        "import numpy as np\n",
        "from datetime import datetime, timedelta\n",
        "import pandas as pd\n",
        "import matplotlib.pyplot as plt\n",
        "import yfinance as yf"
      ]
    },
    {
      "cell_type": "code",
      "execution_count": 73,
      "metadata": {
        "id": "_2kfAeqOAbNg"
      },
      "outputs": [],
      "source": [
        "tickers = [\n",
        "    'TLT',  # US Government Bonds (iShares 20+ Year Treasury Bond ETF)\n",
        "    'MBB',  # US Mortgages ETF\n",
        "    'IWN',  # U.S. Small-Cap Value Equities (iShares Russell 2000 ETF)\n",
        "    'IWO',  # U.S. Small-Cap Growth Equities (iShares Russell 2000 ETF)\n",
        "    'IWD',  # U.S. Large-Cap Value (iShares Russell 1000 Value ETF)\n",
        "    'MCHI',  # Chinese Equities(ishares MSCI)\n",
        "    'INDY',  # Indian Equities (NIFTY Index)\n",
        "    'XLV',  # Healthcare (Health Care Select Sector SPDR Fund)\n",
        "    'XLE',  # Energy (Energy Select Sector SPDR Fund)\n",
        "    'XLY',  # Consumer Discretionary (Consumer Discretionary Select Sector SPDR Fund)\n",
        "    'XLF',  # Financials (Financials Select Sector SPDR Fund)\n",
        "]"
      ]
    },
    {
      "cell_type": "code",
      "execution_count": 74,
      "metadata": {
        "colab": {
          "base_uri": "https://localhost:8080/",
          "height": 342
        },
        "id": "ghoX_hFkAbNg",
        "outputId": "deb0fc2d-63c6-482f-ef2c-1af216728d49"
      },
      "outputs": [
        {
          "output_type": "stream",
          "name": "stderr",
          "text": [
            "[*********************100%***********************]  11 of 11 completed\n"
          ]
        },
        {
          "output_type": "execute_result",
          "data": {
            "text/plain": [
              "Ticker                          INDY         IWD         IWN         IWO  \\\n",
              "Date                                                                       \n",
              "2024-09-30 00:00:00+00:00  56.299999  189.800003  166.820007  284.000000   \n",
              "2024-10-01 00:00:00+00:00  56.029999  189.059998  164.380005  280.279999   \n",
              "2024-10-02 00:00:00+00:00  55.860001  189.039993  163.860001  280.769989   \n",
              "2024-10-03 00:00:00+00:00  55.220001  188.240005  163.000000  278.190002   \n",
              "2024-10-04 00:00:00+00:00  55.070000  189.619995  165.050003  282.869995   \n",
              "\n",
              "Ticker                           MBB       MCHI        TLT        XLE  \\\n",
              "Date                                                                    \n",
              "2024-09-30 00:00:00+00:00  95.499001  50.910000  97.783997  87.800003   \n",
              "2024-10-01 00:00:00+00:00  95.809998  52.980000  98.489998  89.800003   \n",
              "2024-10-02 00:00:00+00:00  95.680000  56.480000  97.660004  90.720001   \n",
              "2024-10-03 00:00:00+00:00  95.209999  54.990002  96.739998  92.320000   \n",
              "2024-10-04 00:00:00+00:00  94.510002  57.000000  95.550003  93.180000   \n",
              "\n",
              "Ticker                           XLF         XLV         XLY  \n",
              "Date                                                          \n",
              "2024-09-30 00:00:00+00:00  45.320000  154.020004  200.369995  \n",
              "2024-10-01 00:00:00+00:00  45.080002  153.210007  199.559998  \n",
              "2024-10-02 00:00:00+00:00  45.130001  152.899994  197.869995  \n",
              "2024-10-03 00:00:00+00:00  44.889999  151.520004  195.580002  \n",
              "2024-10-04 00:00:00+00:00  45.650002  151.639999  198.169998  "
            ],
            "text/html": [
              "\n",
              "  <div id=\"df-b8a37eb0-fdb7-44fe-b42b-1b4f07f3886c\" class=\"colab-df-container\">\n",
              "    <div>\n",
              "<style scoped>\n",
              "    .dataframe tbody tr th:only-of-type {\n",
              "        vertical-align: middle;\n",
              "    }\n",
              "\n",
              "    .dataframe tbody tr th {\n",
              "        vertical-align: top;\n",
              "    }\n",
              "\n",
              "    .dataframe thead th {\n",
              "        text-align: right;\n",
              "    }\n",
              "</style>\n",
              "<table border=\"1\" class=\"dataframe\">\n",
              "  <thead>\n",
              "    <tr style=\"text-align: right;\">\n",
              "      <th>Ticker</th>\n",
              "      <th>INDY</th>\n",
              "      <th>IWD</th>\n",
              "      <th>IWN</th>\n",
              "      <th>IWO</th>\n",
              "      <th>MBB</th>\n",
              "      <th>MCHI</th>\n",
              "      <th>TLT</th>\n",
              "      <th>XLE</th>\n",
              "      <th>XLF</th>\n",
              "      <th>XLV</th>\n",
              "      <th>XLY</th>\n",
              "    </tr>\n",
              "    <tr>\n",
              "      <th>Date</th>\n",
              "      <th></th>\n",
              "      <th></th>\n",
              "      <th></th>\n",
              "      <th></th>\n",
              "      <th></th>\n",
              "      <th></th>\n",
              "      <th></th>\n",
              "      <th></th>\n",
              "      <th></th>\n",
              "      <th></th>\n",
              "      <th></th>\n",
              "    </tr>\n",
              "  </thead>\n",
              "  <tbody>\n",
              "    <tr>\n",
              "      <th>2024-09-30 00:00:00+00:00</th>\n",
              "      <td>56.299999</td>\n",
              "      <td>189.800003</td>\n",
              "      <td>166.820007</td>\n",
              "      <td>284.000000</td>\n",
              "      <td>95.499001</td>\n",
              "      <td>50.910000</td>\n",
              "      <td>97.783997</td>\n",
              "      <td>87.800003</td>\n",
              "      <td>45.320000</td>\n",
              "      <td>154.020004</td>\n",
              "      <td>200.369995</td>\n",
              "    </tr>\n",
              "    <tr>\n",
              "      <th>2024-10-01 00:00:00+00:00</th>\n",
              "      <td>56.029999</td>\n",
              "      <td>189.059998</td>\n",
              "      <td>164.380005</td>\n",
              "      <td>280.279999</td>\n",
              "      <td>95.809998</td>\n",
              "      <td>52.980000</td>\n",
              "      <td>98.489998</td>\n",
              "      <td>89.800003</td>\n",
              "      <td>45.080002</td>\n",
              "      <td>153.210007</td>\n",
              "      <td>199.559998</td>\n",
              "    </tr>\n",
              "    <tr>\n",
              "      <th>2024-10-02 00:00:00+00:00</th>\n",
              "      <td>55.860001</td>\n",
              "      <td>189.039993</td>\n",
              "      <td>163.860001</td>\n",
              "      <td>280.769989</td>\n",
              "      <td>95.680000</td>\n",
              "      <td>56.480000</td>\n",
              "      <td>97.660004</td>\n",
              "      <td>90.720001</td>\n",
              "      <td>45.130001</td>\n",
              "      <td>152.899994</td>\n",
              "      <td>197.869995</td>\n",
              "    </tr>\n",
              "    <tr>\n",
              "      <th>2024-10-03 00:00:00+00:00</th>\n",
              "      <td>55.220001</td>\n",
              "      <td>188.240005</td>\n",
              "      <td>163.000000</td>\n",
              "      <td>278.190002</td>\n",
              "      <td>95.209999</td>\n",
              "      <td>54.990002</td>\n",
              "      <td>96.739998</td>\n",
              "      <td>92.320000</td>\n",
              "      <td>44.889999</td>\n",
              "      <td>151.520004</td>\n",
              "      <td>195.580002</td>\n",
              "    </tr>\n",
              "    <tr>\n",
              "      <th>2024-10-04 00:00:00+00:00</th>\n",
              "      <td>55.070000</td>\n",
              "      <td>189.619995</td>\n",
              "      <td>165.050003</td>\n",
              "      <td>282.869995</td>\n",
              "      <td>94.510002</td>\n",
              "      <td>57.000000</td>\n",
              "      <td>95.550003</td>\n",
              "      <td>93.180000</td>\n",
              "      <td>45.650002</td>\n",
              "      <td>151.639999</td>\n",
              "      <td>198.169998</td>\n",
              "    </tr>\n",
              "  </tbody>\n",
              "</table>\n",
              "</div>\n",
              "    <div class=\"colab-df-buttons\">\n",
              "\n",
              "  <div class=\"colab-df-container\">\n",
              "    <button class=\"colab-df-convert\" onclick=\"convertToInteractive('df-b8a37eb0-fdb7-44fe-b42b-1b4f07f3886c')\"\n",
              "            title=\"Convert this dataframe to an interactive table.\"\n",
              "            style=\"display:none;\">\n",
              "\n",
              "  <svg xmlns=\"http://www.w3.org/2000/svg\" height=\"24px\" viewBox=\"0 -960 960 960\">\n",
              "    <path d=\"M120-120v-720h720v720H120Zm60-500h600v-160H180v160Zm220 220h160v-160H400v160Zm0 220h160v-160H400v160ZM180-400h160v-160H180v160Zm440 0h160v-160H620v160ZM180-180h160v-160H180v160Zm440 0h160v-160H620v160Z\"/>\n",
              "  </svg>\n",
              "    </button>\n",
              "\n",
              "  <style>\n",
              "    .colab-df-container {\n",
              "      display:flex;\n",
              "      gap: 12px;\n",
              "    }\n",
              "\n",
              "    .colab-df-convert {\n",
              "      background-color: #E8F0FE;\n",
              "      border: none;\n",
              "      border-radius: 50%;\n",
              "      cursor: pointer;\n",
              "      display: none;\n",
              "      fill: #1967D2;\n",
              "      height: 32px;\n",
              "      padding: 0 0 0 0;\n",
              "      width: 32px;\n",
              "    }\n",
              "\n",
              "    .colab-df-convert:hover {\n",
              "      background-color: #E2EBFA;\n",
              "      box-shadow: 0px 1px 2px rgba(60, 64, 67, 0.3), 0px 1px 3px 1px rgba(60, 64, 67, 0.15);\n",
              "      fill: #174EA6;\n",
              "    }\n",
              "\n",
              "    .colab-df-buttons div {\n",
              "      margin-bottom: 4px;\n",
              "    }\n",
              "\n",
              "    [theme=dark] .colab-df-convert {\n",
              "      background-color: #3B4455;\n",
              "      fill: #D2E3FC;\n",
              "    }\n",
              "\n",
              "    [theme=dark] .colab-df-convert:hover {\n",
              "      background-color: #434B5C;\n",
              "      box-shadow: 0px 1px 3px 1px rgba(0, 0, 0, 0.15);\n",
              "      filter: drop-shadow(0px 1px 2px rgba(0, 0, 0, 0.3));\n",
              "      fill: #FFFFFF;\n",
              "    }\n",
              "  </style>\n",
              "\n",
              "    <script>\n",
              "      const buttonEl =\n",
              "        document.querySelector('#df-b8a37eb0-fdb7-44fe-b42b-1b4f07f3886c button.colab-df-convert');\n",
              "      buttonEl.style.display =\n",
              "        google.colab.kernel.accessAllowed ? 'block' : 'none';\n",
              "\n",
              "      async function convertToInteractive(key) {\n",
              "        const element = document.querySelector('#df-b8a37eb0-fdb7-44fe-b42b-1b4f07f3886c');\n",
              "        const dataTable =\n",
              "          await google.colab.kernel.invokeFunction('convertToInteractive',\n",
              "                                                    [key], {});\n",
              "        if (!dataTable) return;\n",
              "\n",
              "        const docLinkHtml = 'Like what you see? Visit the ' +\n",
              "          '<a target=\"_blank\" href=https://colab.research.google.com/notebooks/data_table.ipynb>data table notebook</a>'\n",
              "          + ' to learn more about interactive tables.';\n",
              "        element.innerHTML = '';\n",
              "        dataTable['output_type'] = 'display_data';\n",
              "        await google.colab.output.renderOutput(dataTable, element);\n",
              "        const docLink = document.createElement('div');\n",
              "        docLink.innerHTML = docLinkHtml;\n",
              "        element.appendChild(docLink);\n",
              "      }\n",
              "    </script>\n",
              "  </div>\n",
              "\n",
              "\n",
              "<div id=\"df-9eaca481-affc-47fe-821b-c8b02bafbf3b\">\n",
              "  <button class=\"colab-df-quickchart\" onclick=\"quickchart('df-9eaca481-affc-47fe-821b-c8b02bafbf3b')\"\n",
              "            title=\"Suggest charts\"\n",
              "            style=\"display:none;\">\n",
              "\n",
              "<svg xmlns=\"http://www.w3.org/2000/svg\" height=\"24px\"viewBox=\"0 0 24 24\"\n",
              "     width=\"24px\">\n",
              "    <g>\n",
              "        <path d=\"M19 3H5c-1.1 0-2 .9-2 2v14c0 1.1.9 2 2 2h14c1.1 0 2-.9 2-2V5c0-1.1-.9-2-2-2zM9 17H7v-7h2v7zm4 0h-2V7h2v10zm4 0h-2v-4h2v4z\"/>\n",
              "    </g>\n",
              "</svg>\n",
              "  </button>\n",
              "\n",
              "<style>\n",
              "  .colab-df-quickchart {\n",
              "      --bg-color: #E8F0FE;\n",
              "      --fill-color: #1967D2;\n",
              "      --hover-bg-color: #E2EBFA;\n",
              "      --hover-fill-color: #174EA6;\n",
              "      --disabled-fill-color: #AAA;\n",
              "      --disabled-bg-color: #DDD;\n",
              "  }\n",
              "\n",
              "  [theme=dark] .colab-df-quickchart {\n",
              "      --bg-color: #3B4455;\n",
              "      --fill-color: #D2E3FC;\n",
              "      --hover-bg-color: #434B5C;\n",
              "      --hover-fill-color: #FFFFFF;\n",
              "      --disabled-bg-color: #3B4455;\n",
              "      --disabled-fill-color: #666;\n",
              "  }\n",
              "\n",
              "  .colab-df-quickchart {\n",
              "    background-color: var(--bg-color);\n",
              "    border: none;\n",
              "    border-radius: 50%;\n",
              "    cursor: pointer;\n",
              "    display: none;\n",
              "    fill: var(--fill-color);\n",
              "    height: 32px;\n",
              "    padding: 0;\n",
              "    width: 32px;\n",
              "  }\n",
              "\n",
              "  .colab-df-quickchart:hover {\n",
              "    background-color: var(--hover-bg-color);\n",
              "    box-shadow: 0 1px 2px rgba(60, 64, 67, 0.3), 0 1px 3px 1px rgba(60, 64, 67, 0.15);\n",
              "    fill: var(--button-hover-fill-color);\n",
              "  }\n",
              "\n",
              "  .colab-df-quickchart-complete:disabled,\n",
              "  .colab-df-quickchart-complete:disabled:hover {\n",
              "    background-color: var(--disabled-bg-color);\n",
              "    fill: var(--disabled-fill-color);\n",
              "    box-shadow: none;\n",
              "  }\n",
              "\n",
              "  .colab-df-spinner {\n",
              "    border: 2px solid var(--fill-color);\n",
              "    border-color: transparent;\n",
              "    border-bottom-color: var(--fill-color);\n",
              "    animation:\n",
              "      spin 1s steps(1) infinite;\n",
              "  }\n",
              "\n",
              "  @keyframes spin {\n",
              "    0% {\n",
              "      border-color: transparent;\n",
              "      border-bottom-color: var(--fill-color);\n",
              "      border-left-color: var(--fill-color);\n",
              "    }\n",
              "    20% {\n",
              "      border-color: transparent;\n",
              "      border-left-color: var(--fill-color);\n",
              "      border-top-color: var(--fill-color);\n",
              "    }\n",
              "    30% {\n",
              "      border-color: transparent;\n",
              "      border-left-color: var(--fill-color);\n",
              "      border-top-color: var(--fill-color);\n",
              "      border-right-color: var(--fill-color);\n",
              "    }\n",
              "    40% {\n",
              "      border-color: transparent;\n",
              "      border-right-color: var(--fill-color);\n",
              "      border-top-color: var(--fill-color);\n",
              "    }\n",
              "    60% {\n",
              "      border-color: transparent;\n",
              "      border-right-color: var(--fill-color);\n",
              "    }\n",
              "    80% {\n",
              "      border-color: transparent;\n",
              "      border-right-color: var(--fill-color);\n",
              "      border-bottom-color: var(--fill-color);\n",
              "    }\n",
              "    90% {\n",
              "      border-color: transparent;\n",
              "      border-bottom-color: var(--fill-color);\n",
              "    }\n",
              "  }\n",
              "</style>\n",
              "\n",
              "  <script>\n",
              "    async function quickchart(key) {\n",
              "      const quickchartButtonEl =\n",
              "        document.querySelector('#' + key + ' button');\n",
              "      quickchartButtonEl.disabled = true;  // To prevent multiple clicks.\n",
              "      quickchartButtonEl.classList.add('colab-df-spinner');\n",
              "      try {\n",
              "        const charts = await google.colab.kernel.invokeFunction(\n",
              "            'suggestCharts', [key], {});\n",
              "      } catch (error) {\n",
              "        console.error('Error during call to suggestCharts:', error);\n",
              "      }\n",
              "      quickchartButtonEl.classList.remove('colab-df-spinner');\n",
              "      quickchartButtonEl.classList.add('colab-df-quickchart-complete');\n",
              "    }\n",
              "    (() => {\n",
              "      let quickchartButtonEl =\n",
              "        document.querySelector('#df-9eaca481-affc-47fe-821b-c8b02bafbf3b button');\n",
              "      quickchartButtonEl.style.display =\n",
              "        google.colab.kernel.accessAllowed ? 'block' : 'none';\n",
              "    })();\n",
              "  </script>\n",
              "</div>\n",
              "\n",
              "    </div>\n",
              "  </div>\n"
            ],
            "application/vnd.google.colaboratory.intrinsic+json": {
              "type": "dataframe",
              "summary": "{\n  \"name\": \"prices\",\n  \"rows\": 5,\n  \"fields\": [\n    {\n      \"column\": \"Date\",\n      \"properties\": {\n        \"dtype\": \"date\",\n        \"min\": \"2024-09-30 00:00:00+00:00\",\n        \"max\": \"2024-10-04 00:00:00+00:00\",\n        \"num_unique_values\": 5,\n        \"samples\": [\n          \"2024-10-01 00:00:00+00:00\",\n          \"2024-10-04 00:00:00+00:00\",\n          \"2024-10-02 00:00:00+00:00\"\n        ],\n        \"semantic_type\": \"\",\n        \"description\": \"\"\n      }\n    },\n    {\n      \"column\": \"INDY\",\n      \"properties\": {\n        \"dtype\": \"number\",\n        \"std\": 0.5295558712519045,\n        \"min\": 55.06999969482422,\n        \"max\": 56.29999923706055,\n        \"num_unique_values\": 5,\n        \"samples\": [\n          56.029998779296875,\n          55.06999969482422,\n          55.86000061035156\n        ],\n        \"semantic_type\": \"\",\n        \"description\": \"\"\n      }\n    },\n    {\n      \"column\": \"IWD\",\n      \"properties\": {\n        \"dtype\": \"number\",\n        \"std\": 0.6106699842115434,\n        \"min\": 188.24000549316406,\n        \"max\": 189.8000030517578,\n        \"num_unique_values\": 5,\n        \"samples\": [\n          189.05999755859375,\n          189.6199951171875,\n          189.0399932861328\n        ],\n        \"semantic_type\": \"\",\n        \"description\": \"\"\n      }\n    },\n    {\n      \"column\": \"IWN\",\n      \"properties\": {\n        \"dtype\": \"number\",\n        \"std\": 1.4391413686770045,\n        \"min\": 163.0,\n        \"max\": 166.82000732421875,\n        \"num_unique_values\": 5,\n        \"samples\": [\n          164.3800048828125,\n          165.0500030517578,\n          163.86000061035156\n        ],\n        \"semantic_type\": \"\",\n        \"description\": \"\"\n      }\n    },\n    {\n      \"column\": \"IWO\",\n      \"properties\": {\n        \"dtype\": \"number\",\n        \"std\": 2.2758438727819668,\n        \"min\": 278.19000244140625,\n        \"max\": 284.0,\n        \"num_unique_values\": 5,\n        \"samples\": [\n          280.2799987792969,\n          282.8699951171875,\n          280.7699890136719\n        ],\n        \"semantic_type\": \"\",\n        \"description\": \"\"\n      }\n    },\n    {\n      \"column\": \"MBB\",\n      \"properties\": {\n        \"dtype\": \"number\",\n        \"std\": 0.5166138743067433,\n        \"min\": 94.51000213623047,\n        \"max\": 95.80999755859375,\n        \"num_unique_values\": 5,\n        \"samples\": [\n          95.80999755859375,\n          94.51000213623047,\n          95.68000030517578\n        ],\n        \"semantic_type\": \"\",\n        \"description\": \"\"\n      }\n    },\n    {\n      \"column\": \"MCHI\",\n      \"properties\": {\n        \"dtype\": \"number\",\n        \"std\": 2.5300732377501847,\n        \"min\": 50.90999984741211,\n        \"max\": 57.0,\n        \"num_unique_values\": 5,\n        \"samples\": [\n          52.97999954223633,\n          57.0,\n          56.47999954223633\n        ],\n        \"semantic_type\": \"\",\n        \"description\": \"\"\n      }\n    },\n    {\n      \"column\": \"TLT\",\n      \"properties\": {\n        \"dtype\": \"number\",\n        \"std\": 1.1336673506316908,\n        \"min\": 95.55000305175781,\n        \"max\": 98.48999786376953,\n        \"num_unique_values\": 5,\n        \"samples\": [\n          98.48999786376953,\n          95.55000305175781,\n          97.66000366210938\n        ],\n        \"semantic_type\": \"\",\n        \"description\": \"\"\n      }\n    },\n    {\n      \"column\": \"XLE\",\n      \"properties\": {\n        \"dtype\": \"number\",\n        \"std\": 2.119828792784966,\n        \"min\": 87.80000305175781,\n        \"max\": 93.18000030517578,\n        \"num_unique_values\": 5,\n        \"samples\": [\n          89.80000305175781,\n          93.18000030517578,\n          90.72000122070312\n        ],\n        \"semantic_type\": \"\",\n        \"description\": \"\"\n      }\n    },\n    {\n      \"column\": \"XLF\",\n      \"properties\": {\n        \"dtype\": \"number\",\n        \"std\": 0.2878024457921448,\n        \"min\": 44.88999938964844,\n        \"max\": 45.650001525878906,\n        \"num_unique_values\": 5,\n        \"samples\": [\n          45.08000183105469,\n          45.650001525878906,\n          45.130001068115234\n        ],\n        \"semantic_type\": \"\",\n        \"description\": \"\"\n      }\n    },\n    {\n      \"column\": \"XLV\",\n      \"properties\": {\n        \"dtype\": \"number\",\n        \"std\": 1.0664998376524373,\n        \"min\": 151.52000427246094,\n        \"max\": 154.02000427246094,\n        \"num_unique_values\": 5,\n        \"samples\": [\n          153.2100067138672,\n          151.63999938964844,\n          152.89999389648438\n        ],\n        \"semantic_type\": \"\",\n        \"description\": \"\"\n      }\n    },\n    {\n      \"column\": \"XLY\",\n      \"properties\": {\n        \"dtype\": \"number\",\n        \"std\": 1.8352226425790374,\n        \"min\": 195.5800018310547,\n        \"max\": 200.3699951171875,\n        \"num_unique_values\": 5,\n        \"samples\": [\n          199.55999755859375,\n          198.1699981689453,\n          197.8699951171875\n        ],\n        \"semantic_type\": \"\",\n        \"description\": \"\"\n      }\n    }\n  ]\n}"
            }
          },
          "metadata": {},
          "execution_count": 74
        }
      ],
      "source": [
        "ohlc = yf.download(tickers, period=\"max\")\n",
        "prices = ohlc[\"Adj Close\"]\n",
        "prices.tail()"
      ]
    },
    {
      "cell_type": "code",
      "execution_count": 75,
      "metadata": {
        "colab": {
          "base_uri": "https://localhost:8080/",
          "height": 290
        },
        "id": "WmtKlXfLAbNi",
        "outputId": "58a791fc-db08-4faa-ab90-3e053a787478"
      },
      "outputs": [
        {
          "output_type": "stream",
          "name": "stderr",
          "text": [
            "\r[*********************100%***********************]  1 of 1 completed\n"
          ]
        },
        {
          "output_type": "execute_result",
          "data": {
            "text/plain": [
              "Date\n",
              "1993-01-29    24.608624\n",
              "1993-02-01    24.783648\n",
              "1993-02-02    24.836159\n",
              "1993-02-03    25.098684\n",
              "1993-02-04    25.203716\n",
              "Name: Adj Close, dtype: float64"
            ],
            "text/html": [
              "<div>\n",
              "<style scoped>\n",
              "    .dataframe tbody tr th:only-of-type {\n",
              "        vertical-align: middle;\n",
              "    }\n",
              "\n",
              "    .dataframe tbody tr th {\n",
              "        vertical-align: top;\n",
              "    }\n",
              "\n",
              "    .dataframe thead th {\n",
              "        text-align: right;\n",
              "    }\n",
              "</style>\n",
              "<table border=\"1\" class=\"dataframe\">\n",
              "  <thead>\n",
              "    <tr style=\"text-align: right;\">\n",
              "      <th></th>\n",
              "      <th>Adj Close</th>\n",
              "    </tr>\n",
              "    <tr>\n",
              "      <th>Date</th>\n",
              "      <th></th>\n",
              "    </tr>\n",
              "  </thead>\n",
              "  <tbody>\n",
              "    <tr>\n",
              "      <th>1993-01-29</th>\n",
              "      <td>24.608624</td>\n",
              "    </tr>\n",
              "    <tr>\n",
              "      <th>1993-02-01</th>\n",
              "      <td>24.783648</td>\n",
              "    </tr>\n",
              "    <tr>\n",
              "      <th>1993-02-02</th>\n",
              "      <td>24.836159</td>\n",
              "    </tr>\n",
              "    <tr>\n",
              "      <th>1993-02-03</th>\n",
              "      <td>25.098684</td>\n",
              "    </tr>\n",
              "    <tr>\n",
              "      <th>1993-02-04</th>\n",
              "      <td>25.203716</td>\n",
              "    </tr>\n",
              "  </tbody>\n",
              "</table>\n",
              "</div><br><label><b>dtype:</b> float64</label>"
            ]
          },
          "metadata": {},
          "execution_count": 75
        }
      ],
      "source": [
        "market_prices = yf.download(\"SPY\", period=\"max\")[\"Adj Close\"]\n",
        "market_prices.head()"
      ]
    },
    {
      "cell_type": "code",
      "execution_count": 76,
      "metadata": {
        "colab": {
          "base_uri": "https://localhost:8080/"
        },
        "id": "rZwXHHxxAbNi",
        "outputId": "01ee2cfd-b3f9-4a98-a1d0-fbc67a3899bc"
      },
      "outputs": [
        {
          "output_type": "execute_result",
          "data": {
            "text/plain": [
              "{'TLT': 61026795520,\n",
              " 'MBB': 34353930240,\n",
              " 'IWN': 12552940544,\n",
              " 'IWO': 12063725568,\n",
              " 'IWD': 60449714176,\n",
              " 'MCHI': 5340214784,\n",
              " 'INDY': 1004747200,\n",
              " 'XLV': 41938018304,\n",
              " 'XLE': 35469139968,\n",
              " 'XLY': 19484006400,\n",
              " 'XLF': 42114596864}"
            ]
          },
          "metadata": {},
          "execution_count": 76
        }
      ],
      "source": [
        "mcaps = {}\n",
        "for t in tickers:\n",
        "    stock = yf.Ticker(t)\n",
        "    info = stock.info\n",
        "\n",
        "    # Try to get market capitalization first, if not available, use totalAssets for ETFs\n",
        "    if 'marketCap' in info:\n",
        "        mcaps[t] = info['marketCap']  # For regular stocks\n",
        "    elif 'totalAssets' in info:\n",
        "        mcaps[t] = info['totalAssets']  # For ETFs, use total assets (AUM)\n",
        "    else:\n",
        "        print(f\"Market Cap or Total Assets not available for {t}, assigning default value.\")\n",
        "        mcaps[t] = 1e9  # Assigning a default value, e.g., $1 billion\n",
        "\n",
        "mcaps"
      ]
    },
    {
      "cell_type": "markdown",
      "metadata": {
        "id": "w6cnqTB8AbNi"
      },
      "source": [
        "## Constructing the prior"
      ]
    },
    {
      "cell_type": "code",
      "execution_count": 77,
      "metadata": {
        "colab": {
          "base_uri": "https://localhost:8080/",
          "height": 35
        },
        "id": "KMyL_d0mAbNj",
        "outputId": "acb40b28-62e1-4a28-b9d5-f2c77a662b0e"
      },
      "outputs": [
        {
          "output_type": "execute_result",
          "data": {
            "text/plain": [
              "'1.5.5'"
            ],
            "application/vnd.google.colaboratory.intrinsic+json": {
              "type": "string"
            }
          },
          "metadata": {},
          "execution_count": 77
        }
      ],
      "source": [
        "import pypfopt\n",
        "pypfopt.__version__"
      ]
    },
    {
      "cell_type": "code",
      "execution_count": 78,
      "metadata": {
        "colab": {
          "base_uri": "https://localhost:8080/"
        },
        "id": "V35ccSUSAbNj",
        "outputId": "111c8cd1-3cb1-4adb-891e-0aa63f5bf354"
      },
      "outputs": [
        {
          "output_type": "execute_result",
          "data": {
            "text/plain": [
              "2.78622208742861"
            ]
          },
          "metadata": {},
          "execution_count": 78
        }
      ],
      "source": [
        "from pypfopt import black_litterman, risk_models\n",
        "from pypfopt import BlackLittermanModel, plotting\n",
        "\n",
        "S = risk_models.CovarianceShrinkage(prices).ledoit_wolf()\n",
        "delta = black_litterman.market_implied_risk_aversion(market_prices)\n",
        "delta"
      ]
    },
    {
      "cell_type": "code",
      "execution_count": 79,
      "metadata": {
        "colab": {
          "base_uri": "https://localhost:8080/",
          "height": 487
        },
        "id": "tgz3bOltAbNj",
        "outputId": "d8934e3c-ef36-4801-d67c-784538fce76a"
      },
      "outputs": [
        {
          "output_type": "display_data",
          "data": {
            "text/plain": [
              "<Figure size 640x480 with 2 Axes>"
            ],
            "image/png": "[encoded data removed]"
          },
          "metadata": {}
        }
      ],
      "source": [
        "plotting.plot_covariance(S, plot_correlation=True);"
      ]
    },
    {
      "cell_type": "code",
      "execution_count": 80,
      "metadata": {
        "colab": {
          "base_uri": "https://localhost:8080/",
          "height": 460
        },
        "id": "qknxazUhAbNk",
        "outputId": "f3b1c5b2-d352-4380-ddc9-5a835e9b7511"
      },
      "outputs": [
        {
          "output_type": "execute_result",
          "data": {
            "text/plain": [
              "Ticker\n",
              "INDY    0.048586\n",
              "IWD     0.085910\n",
              "IWN     0.095589\n",
              "IWO     0.096103\n",
              "MBB     0.021777\n",
              "MCHI    0.046217\n",
              "TLT     0.012817\n",
              "XLE     0.101421\n",
              "XLF     0.113500\n",
              "XLV     0.071771\n",
              "XLY     0.089277\n",
              "dtype: float64"
            ],
            "text/html": [
              "<div>\n",
              "<style scoped>\n",
              "    .dataframe tbody tr th:only-of-type {\n",
              "        vertical-align: middle;\n",
              "    }\n",
              "\n",
              "    .dataframe tbody tr th {\n",
              "        vertical-align: top;\n",
              "    }\n",
              "\n",
              "    .dataframe thead th {\n",
              "        text-align: right;\n",
              "    }\n",
              "</style>\n",
              "<table border=\"1\" class=\"dataframe\">\n",
              "  <thead>\n",
              "    <tr style=\"text-align: right;\">\n",
              "      <th></th>\n",
              "      <th>0</th>\n",
              "    </tr>\n",
              "    <tr>\n",
              "      <th>Ticker</th>\n",
              "      <th></th>\n",
              "    </tr>\n",
              "  </thead>\n",
              "  <tbody>\n",
              "    <tr>\n",
              "      <th>INDY</th>\n",
              "      <td>0.048586</td>\n",
              "    </tr>\n",
              "    <tr>\n",
              "      <th>IWD</th>\n",
              "      <td>0.085910</td>\n",
              "    </tr>\n",
              "    <tr>\n",
              "      <th>IWN</th>\n",
              "      <td>0.095589</td>\n",
              "    </tr>\n",
              "    <tr>\n",
              "      <th>IWO</th>\n",
              "      <td>0.096103</td>\n",
              "    </tr>\n",
              "    <tr>\n",
              "      <th>MBB</th>\n",
              "      <td>0.021777</td>\n",
              "    </tr>\n",
              "    <tr>\n",
              "      <th>MCHI</th>\n",
              "      <td>0.046217</td>\n",
              "    </tr>\n",
              "    <tr>\n",
              "      <th>TLT</th>\n",
              "      <td>0.012817</td>\n",
              "    </tr>\n",
              "    <tr>\n",
              "      <th>XLE</th>\n",
              "      <td>0.101421</td>\n",
              "    </tr>\n",
              "    <tr>\n",
              "      <th>XLF</th>\n",
              "      <td>0.113500</td>\n",
              "    </tr>\n",
              "    <tr>\n",
              "      <th>XLV</th>\n",
              "      <td>0.071771</td>\n",
              "    </tr>\n",
              "    <tr>\n",
              "      <th>XLY</th>\n",
              "      <td>0.089277</td>\n",
              "    </tr>\n",
              "  </tbody>\n",
              "</table>\n",
              "</div><br><label><b>dtype:</b> float64</label>"
            ]
          },
          "metadata": {},
          "execution_count": 80
        }
      ],
      "source": [
        "market_prior = black_litterman.market_implied_prior_returns(mcaps, delta, S)\n",
        "market_prior"
      ]
    },
    {
      "cell_type": "code",
      "execution_count": 81,
      "metadata": {
        "colab": {
          "base_uri": "https://localhost:8080/",
          "height": 445
        },
        "id": "9exlhi1BAbNk",
        "outputId": "5c35fac1-3853-46ef-c912-ccdd24752f89"
      },
      "outputs": [
        {
          "output_type": "display_data",
          "data": {
            "text/plain": [
              "<Figure size 1000x500 with 1 Axes>"
            ],
            "image/png": "[encoded data removed]"
          },
          "metadata": {}
        }
      ],
      "source": [
        "market_prior.plot.barh(figsize=(10,5));"
      ]
    },
    {
      "cell_type": "markdown",
      "metadata": {
        "id": "v1YzJTJFAbNl"
      },
      "source": [
        "## Views\n",
        "\n",
        "In the BL method, views are specified via the matrix P (picking matrix) and the vector Q. Q contains the magnitude of each view, while P maps the views to the assets they belong to.\n",
        "\n",
        "If you are providing **absolute views** (i.e a return estimate for each asset), you don't have to worry about P and Q, you can just pass your views as a dictionary."
      ]
    },
    {
      "cell_type": "code",
      "source": [
        "#Exp_returns and volatility\n",
        "# Define the date range (last 2 years)\n",
        "end_date = datetime.today().strftime('%Y-%m-%d')\n",
        "start_date = (datetime.today() - timedelta(days=2*365)).strftime('%Y-%m-%d')\n",
        "\n",
        "# Download adjusted close price data for the tickers\n",
        "data = yf.download(tickers, start=start_date, end=end_date)['Adj Close']\n",
        "\n",
        "# Calculate daily returns\n",
        "returns = data.pct_change().dropna()\n",
        "\n",
        "# Calculate the mean daily returns and volatility (standard deviation) for each asset\n",
        "mean_daily_returns = returns.mean()\n",
        "daily_volatility = returns.std()\n",
        "\n",
        "# Annualize the mean returns and volatility\n",
        "trading_days = 252  # Approximate number of trading days in a year\n",
        "annualized_returns = mean_daily_returns * trading_days\n",
        "annualized_volatility = daily_volatility * np.sqrt(trading_days)\n",
        "\n",
        "# Calculate the covariance matrix for the asset classes (daily)\n",
        "cov_matrix_daily = returns.cov()\n",
        "\n",
        "# Annualize the covariance matrix\n",
        "cov_matrix_annualized = cov_matrix_daily * trading_days\n",
        "\n",
        "# Display results\n",
        "print(\"Annualized Returns:\\n\", annualized_returns)\n",
        "print(\"\\nAnnualized Volatility:\\n\", annualized_volatility)\n",
        "print(\"\\nAnnualized Covariance Matrix:\\n\", cov_matrix_annualized)"
      ],
      "metadata": {
        "colab": {
          "base_uri": "https://localhost:8080/"
        },
        "id": "r8CVWsHCquJD",
        "outputId": "62d7ae07-f3e5-4f65-dff5-aaea404c1d1c"
      },
      "execution_count": 82,
      "outputs": [
        {
          "output_type": "stream",
          "name": "stderr",
          "text": [
            "[*********************100%***********************]  11 of 11 completed\n"
          ]
        },
        {
          "output_type": "stream",
          "name": "stdout",
          "text": [
            "Annualized Returns:\n",
            " Ticker\n",
            "INDY    0.152209\n",
            "IWD     0.165850\n",
            "IWN     0.134597\n",
            "IWO     0.150562\n",
            "MBB     0.057630\n",
            "MCHI    0.173818\n",
            "TLT     0.021324\n",
            "XLE     0.125524\n",
            "XLF     0.199961\n",
            "XLV     0.112465\n",
            "XLY     0.175367\n",
            "dtype: float64\n",
            "\n",
            "Annualized Volatility:\n",
            " Ticker\n",
            "INDY    0.125635\n",
            "IWD     0.133387\n",
            "IWN     0.212261\n",
            "IWO     0.216349\n",
            "MBB     0.080619\n",
            "MCHI    0.295666\n",
            "TLT     0.173328\n",
            "XLE     0.220075\n",
            "XLF     0.159770\n",
            "XLV     0.119825\n",
            "XLY     0.208918\n",
            "dtype: float64\n",
            "\n",
            "Annualized Covariance Matrix:\n",
            " Ticker      INDY       IWD       IWN       IWO       MBB      MCHI       TLT  \\\n",
            "Ticker                                                                         \n",
            "INDY    0.015784  0.008523  0.012389  0.013370  0.001625  0.011236  0.001841   \n",
            "IWD     0.008523  0.017792  0.025050  0.024898  0.002615  0.014602  0.003483   \n",
            "IWN     0.012389  0.025050  0.045055  0.043021  0.004577  0.021794  0.006150   \n",
            "IWO     0.013370  0.024898  0.043021  0.046807  0.004854  0.023368  0.006696   \n",
            "MBB     0.001625  0.002615  0.004577  0.004854  0.006499  0.004418  0.012394   \n",
            "MCHI    0.011236  0.014602  0.021794  0.023368  0.004418  0.087418  0.004902   \n",
            "TLT     0.001841  0.003483  0.006150  0.006696  0.012394  0.004902  0.030043   \n",
            "XLE     0.007248  0.017688  0.024185  0.021775 -0.001059  0.014616 -0.003722   \n",
            "XLF     0.009592  0.019360  0.026735  0.025430  0.001576  0.013592  0.001373   \n",
            "XLV     0.005693  0.011753  0.013964  0.014942  0.002230  0.006453  0.003538   \n",
            "XLY     0.011353  0.020647  0.031114  0.034904  0.004965  0.022906  0.007827   \n",
            "\n",
            "Ticker       XLE       XLF       XLV       XLY  \n",
            "Ticker                                          \n",
            "INDY    0.007248  0.009592  0.005693  0.011353  \n",
            "IWD     0.017688  0.019360  0.011753  0.020647  \n",
            "IWN     0.024185  0.026735  0.013964  0.031114  \n",
            "IWO     0.021775  0.025430  0.014942  0.034904  \n",
            "MBB    -0.001059  0.001576  0.002230  0.004965  \n",
            "MCHI    0.014616  0.013592  0.006453  0.022906  \n",
            "TLT    -0.003722  0.001373  0.003538  0.007827  \n",
            "XLE     0.048433  0.018915  0.008206  0.012817  \n",
            "XLF     0.018915  0.025527  0.011970  0.021774  \n",
            "XLV     0.008206  0.011970  0.014358  0.012122  \n",
            "XLY     0.012817  0.021774  0.012122  0.043647  \n"
          ]
        }
      ]
    },
    {
      "cell_type": "code",
      "source": [
        "\n",
        "# Convert the annualized returns to a dictionary\n",
        "annualized_returns_dict = annualized_returns.to_dict()\n",
        "\n",
        "# Define your absolute views using the values from the 'annualized_returns' variable\n",
        "# From my capital market Expectations I expect the given asset classes can provide a return which is atleast the mean.\n",
        "\n",
        "viewdict = {ticker: annualized_returns_dict[ticker] for ticker in annualized_returns_dict}\n",
        "\n",
        "# Now pass this into the Black-Litterman model\n",
        "bl = BlackLittermanModel(S, pi=market_prior, absolute_views=viewdict)\n",
        "\n",
        "print(\"Views:\", viewdict)\n"
      ],
      "metadata": {
        "colab": {
          "base_uri": "https://localhost:8080/"
        },
        "id": "PCNYykf03Gc3",
        "outputId": "86ef86b9-59ca-40f3-a517-6be9e94bc22e"
      },
      "execution_count": 83,
      "outputs": [
        {
          "output_type": "stream",
          "name": "stdout",
          "text": [
            "Views: {'INDY': 0.15220946178456346, 'IWD': 0.16585004110791615, 'IWN': 0.13459733328432008, 'IWO': 0.1505620400021065, 'MBB': 0.05762964296301872, 'MCHI': 0.17381838845859096, 'TLT': 0.02132419498553652, 'XLE': 0.12552355954991967, 'XLF': 0.19996127805886418, 'XLV': 0.11246511396783668, 'XLY': 0.17536656428954558}\n"
          ]
        }
      ]
    },
    {
      "cell_type": "markdown",
      "metadata": {
        "id": "fA5PRsozAbNm"
      },
      "source": [
        "Black-Litterman also allows for relative views, e.g you think asset A will outperform asset B by 10%. If you'd like to incorporate these, you will have to build P and Q yourself. An explanation for this is given in the [docs](https://pyportfolioopt.readthedocs.io/en/latest/BlackLitterman.html#views)."
      ]
    },
    {
      "cell_type": "markdown",
      "metadata": {
        "id": "QIMKGZEoAbNm"
      },
      "source": [
        "## View confidences\n",
        "\n",
        "In this section, we provide two ways that you may wish to construct the uncertainty matrix. The first is known as Idzorek's method. It allows you to specify a vector/list of percentage confidences."
      ]
    },
    {
      "cell_type": "code",
      "execution_count": 121,
      "metadata": {
        "id": "Z0Pzoio1AbNm"
      },
      "outputs": [],
      "source": [
        "confidences = [\n",
        "    0.4,#INDY\n",
        "    0.7,#IWD\n",
        "    0.45,#IWM\n",
        "    0.55,#IWO\n",
        "    0.35, #MBB\n",
        "    0.65, #MCHI\n",
        "    0.45, #TLT\n",
        "    0.7, #XLE\n",
        "    0.6, #XLF\n",
        "    0.32, #XLV\n",
        "    0.45 #XLY\n",
        "]"
      ]
    },
    {
      "cell_type": "code",
      "execution_count": 122,
      "metadata": {
        "id": "EaRmLt4IAbNm"
      },
      "outputs": [],
      "source": [
        "bl = BlackLittermanModel(S, pi=market_prior, absolute_views=viewdict, omega=\"idzorek\", view_confidences=confidences)\n"
      ]
    },
    {
      "cell_type": "code",
      "execution_count": 123,
      "metadata": {
        "id": "fo6SKTGAAbNn",
        "colab": {
          "base_uri": "https://localhost:8080/",
          "height": 599
        },
        "collapsed": true,
        "outputId": "dc69c864-580f-4942-db38-abc0c1e28260"
      },
      "outputs": [
        {
          "output_type": "display_data",
          "data": {
            "text/plain": [
              "<Figure size 700x700 with 1 Axes>"
            ],
            "image/png": "[encoded data removed]"
          },
          "metadata": {}
        }
      ],
      "source": [
        "fig, ax = plt.subplots(figsize=(7,7))\n",
        "im = ax.imshow(bl.omega)\n",
        "\n",
        "# We want to show all ticks...\n",
        "ax.set_xticks(np.arange(len(bl.tickers)))\n",
        "ax.set_yticks(np.arange(len(bl.tickers)))\n",
        "\n",
        "ax.set_xticklabels(bl.tickers)\n",
        "ax.set_yticklabels(bl.tickers)\n",
        "plt.show()"
      ]
    },
    {
      "cell_type": "code",
      "execution_count": 124,
      "metadata": {
        "id": "58aBtbhuAbNn",
        "colab": {
          "base_uri": "https://localhost:8080/"
        },
        "outputId": "6cb0cb52-5af9-4a46-ff45-5a3e35b5b2a9"
      },
      "outputs": [
        {
          "output_type": "execute_result",
          "data": {
            "text/plain": [
              "array([0.0022915 , 0.00075294, 0.00326971, 0.00243131, 0.00014288,\n",
              "       0.00098763, 0.00110754, 0.00178778, 0.00276981, 0.00342484,\n",
              "       0.00314012])"
            ]
          },
          "metadata": {},
          "execution_count": 124
        }
      ],
      "source": [
        "np.diag(bl.omega)"
      ]
    },
    {
      "cell_type": "markdown",
      "metadata": {
        "id": "lUGduOmsAbNn"
      },
      "source": [
        "Note how NAT, which we gave the lowest confidence, also has the highest uncertainty.\n",
        "\n",
        "Instead of inputting confidences, we can calculate the uncertainty matrix directly by specifying 1 standard deviation confidence intervals, i.e bounds which we think will contain the true return 68% of the time. This may be easier than coming up with somewhat arbitrary percentage confidences"
      ]
    },
    {
      "cell_type": "markdown",
      "metadata": {
        "id": "VlVq9sICAbNo"
      },
      "source": [
        "## Posterior estimates\n",
        "\n",
        "Given the inputs, we can compute a posterior estimate of returns\n"
      ]
    },
    {
      "cell_type": "code",
      "execution_count": 125,
      "metadata": {
        "id": "478dHIDHAbNo"
      },
      "outputs": [],
      "source": [
        "# We are using the shortcut to automatically compute market-implied prior\n",
        "bl = BlackLittermanModel(S, pi=\"market\", market_caps=mcaps, risk_aversion=delta,\n",
        "                        absolute_views=viewdict, omega=\"idzorek\",view_confidences=confidences)"
      ]
    },
    {
      "cell_type": "code",
      "execution_count": 126,
      "metadata": {
        "id": "A9VSO7xAAbNo",
        "colab": {
          "base_uri": "https://localhost:8080/",
          "height": 460
        },
        "outputId": "c7403f3c-1f0a-4fc8-e052-2456afebe0dd"
      },
      "outputs": [
        {
          "output_type": "execute_result",
          "data": {
            "text/plain": [
              "Ticker\n",
              "INDY    0.107528\n",
              "IWD     0.140720\n",
              "IWN     0.156154\n",
              "IWO     0.163709\n",
              "MBB     0.022649\n",
              "MCHI    0.132859\n",
              "TLT     0.013943\n",
              "XLE     0.142627\n",
              "XLF     0.187230\n",
              "XLV     0.112682\n",
              "XLY     0.157681\n",
              "dtype: float64"
            ],
            "text/html": [
              "<div>\n",
              "<style scoped>\n",
              "    .dataframe tbody tr th:only-of-type {\n",
              "        vertical-align: middle;\n",
              "    }\n",
              "\n",
              "    .dataframe tbody tr th {\n",
              "        vertical-align: top;\n",
              "    }\n",
              "\n",
              "    .dataframe thead th {\n",
              "        text-align: right;\n",
              "    }\n",
              "</style>\n",
              "<table border=\"1\" class=\"dataframe\">\n",
              "  <thead>\n",
              "    <tr style=\"text-align: right;\">\n",
              "      <th></th>\n",
              "      <th>0</th>\n",
              "    </tr>\n",
              "    <tr>\n",
              "      <th>Ticker</th>\n",
              "      <th></th>\n",
              "    </tr>\n",
              "  </thead>\n",
              "  <tbody>\n",
              "    <tr>\n",
              "      <th>INDY</th>\n",
              "      <td>0.107528</td>\n",
              "    </tr>\n",
              "    <tr>\n",
              "      <th>IWD</th>\n",
              "      <td>0.140720</td>\n",
              "    </tr>\n",
              "    <tr>\n",
              "      <th>IWN</th>\n",
              "      <td>0.156154</td>\n",
              "    </tr>\n",
              "    <tr>\n",
              "      <th>IWO</th>\n",
              "      <td>0.163709</td>\n",
              "    </tr>\n",
              "    <tr>\n",
              "      <th>MBB</th>\n",
              "      <td>0.022649</td>\n",
              "    </tr>\n",
              "    <tr>\n",
              "      <th>MCHI</th>\n",
              "      <td>0.132859</td>\n",
              "    </tr>\n",
              "    <tr>\n",
              "      <th>TLT</th>\n",
              "      <td>0.013943</td>\n",
              "    </tr>\n",
              "    <tr>\n",
              "      <th>XLE</th>\n",
              "      <td>0.142627</td>\n",
              "    </tr>\n",
              "    <tr>\n",
              "      <th>XLF</th>\n",
              "      <td>0.187230</td>\n",
              "    </tr>\n",
              "    <tr>\n",
              "      <th>XLV</th>\n",
              "      <td>0.112682</td>\n",
              "    </tr>\n",
              "    <tr>\n",
              "      <th>XLY</th>\n",
              "      <td>0.157681</td>\n",
              "    </tr>\n",
              "  </tbody>\n",
              "</table>\n",
              "</div><br><label><b>dtype:</b> float64</label>"
            ]
          },
          "metadata": {},
          "execution_count": 126
        }
      ],
      "source": [
        "# Posterior estimate of returns\n",
        "ret_bl = bl.bl_returns()\n",
        "ret_bl"
      ]
    },
    {
      "cell_type": "markdown",
      "metadata": {
        "id": "eRKmlKABAbNo"
      },
      "source": [
        "We can visualise how this compares to the prior and our views:"
      ]
    },
    {
      "cell_type": "code",
      "execution_count": 127,
      "metadata": {
        "id": "KHfvi6KvAbNp",
        "colab": {
          "base_uri": "https://localhost:8080/",
          "height": 394
        },
        "outputId": "ab7660e8-3c32-49d5-a810-c31a60656e3a"
      },
      "outputs": [
        {
          "output_type": "execute_result",
          "data": {
            "text/plain": [
              "         Prior  Posterior     Views\n",
              "INDY  0.048586   0.107528  0.152209\n",
              "IWD   0.085910   0.140720  0.165850\n",
              "IWN   0.095589   0.156154  0.134597\n",
              "IWO   0.096103   0.163709  0.150562\n",
              "MBB   0.021777   0.022649  0.057630\n",
              "MCHI  0.046217   0.132859  0.173818\n",
              "TLT   0.012817   0.013943  0.021324\n",
              "XLE   0.101421   0.142627  0.125524\n",
              "XLF   0.113500   0.187230  0.199961\n",
              "XLV   0.071771   0.112682  0.112465\n",
              "XLY   0.089277   0.157681  0.175367"
            ],
            "text/html": [
              "\n",
              "  <div id=\"df-7cec7237-6f3f-43c4-9b13-f24f92d2d8da\" class=\"colab-df-container\">\n",
              "    <div>\n",
              "<style scoped>\n",
              "    .dataframe tbody tr th:only-of-type {\n",
              "        vertical-align: middle;\n",
              "    }\n",
              "\n",
              "    .dataframe tbody tr th {\n",
              "        vertical-align: top;\n",
              "    }\n",
              "\n",
              "    .dataframe thead th {\n",
              "        text-align: right;\n",
              "    }\n",
              "</style>\n",
              "<table border=\"1\" class=\"dataframe\">\n",
              "  <thead>\n",
              "    <tr style=\"text-align: right;\">\n",
              "      <th></th>\n",
              "      <th>Prior</th>\n",
              "      <th>Posterior</th>\n",
              "      <th>Views</th>\n",
              "    </tr>\n",
              "  </thead>\n",
              "  <tbody>\n",
              "    <tr>\n",
              "      <th>INDY</th>\n",
              "      <td>0.048586</td>\n",
              "      <td>0.107528</td>\n",
              "      <td>0.152209</td>\n",
              "    </tr>\n",
              "    <tr>\n",
              "      <th>IWD</th>\n",
              "      <td>0.085910</td>\n",
              "      <td>0.140720</td>\n",
              "      <td>0.165850</td>\n",
              "    </tr>\n",
              "    <tr>\n",
              "      <th>IWN</th>\n",
              "      <td>0.095589</td>\n",
              "      <td>0.156154</td>\n",
              "      <td>0.134597</td>\n",
              "    </tr>\n",
              "    <tr>\n",
              "      <th>IWO</th>\n",
              "      <td>0.096103</td>\n",
              "      <td>0.163709</td>\n",
              "      <td>0.150562</td>\n",
              "    </tr>\n",
              "    <tr>\n",
              "      <th>MBB</th>\n",
              "      <td>0.021777</td>\n",
              "      <td>0.022649</td>\n",
              "      <td>0.057630</td>\n",
              "    </tr>\n",
              "    <tr>\n",
              "      <th>MCHI</th>\n",
              "      <td>0.046217</td>\n",
              "      <td>0.132859</td>\n",
              "      <td>0.173818</td>\n",
              "    </tr>\n",
              "    <tr>\n",
              "      <th>TLT</th>\n",
              "      <td>0.012817</td>\n",
              "      <td>0.013943</td>\n",
              "      <td>0.021324</td>\n",
              "    </tr>\n",
              "    <tr>\n",
              "      <th>XLE</th>\n",
              "      <td>0.101421</td>\n",
              "      <td>0.142627</td>\n",
              "      <td>0.125524</td>\n",
              "    </tr>\n",
              "    <tr>\n",
              "      <th>XLF</th>\n",
              "      <td>0.113500</td>\n",
              "      <td>0.187230</td>\n",
              "      <td>0.199961</td>\n",
              "    </tr>\n",
              "    <tr>\n",
              "      <th>XLV</th>\n",
              "      <td>0.071771</td>\n",
              "      <td>0.112682</td>\n",
              "      <td>0.112465</td>\n",
              "    </tr>\n",
              "    <tr>\n",
              "      <th>XLY</th>\n",
              "      <td>0.089277</td>\n",
              "      <td>0.157681</td>\n",
              "      <td>0.175367</td>\n",
              "    </tr>\n",
              "  </tbody>\n",
              "</table>\n",
              "</div>\n",
              "    <div class=\"colab-df-buttons\">\n",
              "\n",
              "  <div class=\"colab-df-container\">\n",
              "    <button class=\"colab-df-convert\" onclick=\"convertToInteractive('df-7cec7237-6f3f-43c4-9b13-f24f92d2d8da')\"\n",
              "            title=\"Convert this dataframe to an interactive table.\"\n",
              "            style=\"display:none;\">\n",
              "\n",
              "  <svg xmlns=\"http://www.w3.org/2000/svg\" height=\"24px\" viewBox=\"0 -960 960 960\">\n",
              "    <path d=\"M120-120v-720h720v720H120Zm60-500h600v-160H180v160Zm220 220h160v-160H400v160Zm0 220h160v-160H400v160ZM180-400h160v-160H180v160Zm440 0h160v-160H620v160ZM180-180h160v-160H180v160Zm440 0h160v-160H620v160Z\"/>\n",
              "  </svg>\n",
              "    </button>\n",
              "\n",
              "  <style>\n",
              "    .colab-df-container {\n",
              "      display:flex;\n",
              "      gap: 12px;\n",
              "    }\n",
              "\n",
              "    .colab-df-convert {\n",
              "      background-color: #E8F0FE;\n",
              "      border: none;\n",
              "      border-radius: 50%;\n",
              "      cursor: pointer;\n",
              "      display: none;\n",
              "      fill: #1967D2;\n",
              "      height: 32px;\n",
              "      padding: 0 0 0 0;\n",
              "      width: 32px;\n",
              "    }\n",
              "\n",
              "    .colab-df-convert:hover {\n",
              "      background-color: #E2EBFA;\n",
              "      box-shadow: 0px 1px 2px rgba(60, 64, 67, 0.3), 0px 1px 3px 1px rgba(60, 64, 67, 0.15);\n",
              "      fill: #174EA6;\n",
              "    }\n",
              "\n",
              "    .colab-df-buttons div {\n",
              "      margin-bottom: 4px;\n",
              "    }\n",
              "\n",
              "    [theme=dark] .colab-df-convert {\n",
              "      background-color: #3B4455;\n",
              "      fill: #D2E3FC;\n",
              "    }\n",
              "\n",
              "    [theme=dark] .colab-df-convert:hover {\n",
              "      background-color: #434B5C;\n",
              "      box-shadow: 0px 1px 3px 1px rgba(0, 0, 0, 0.15);\n",
              "      filter: drop-shadow(0px 1px 2px rgba(0, 0, 0, 0.3));\n",
              "      fill: #FFFFFF;\n",
              "    }\n",
              "  </style>\n",
              "\n",
              "    <script>\n",
              "      const buttonEl =\n",
              "        document.querySelector('#df-7cec7237-6f3f-43c4-9b13-f24f92d2d8da button.colab-df-convert');\n",
              "      buttonEl.style.display =\n",
              "        google.colab.kernel.accessAllowed ? 'block' : 'none';\n",
              "\n",
              "      async function convertToInteractive(key) {\n",
              "        const element = document.querySelector('#df-7cec7237-6f3f-43c4-9b13-f24f92d2d8da');\n",
              "        const dataTable =\n",
              "          await google.colab.kernel.invokeFunction('convertToInteractive',\n",
              "                                                    [key], {});\n",
              "        if (!dataTable) return;\n",
              "\n",
              "        const docLinkHtml = 'Like what you see? Visit the ' +\n",
              "          '<a target=\"_blank\" href=https://colab.research.google.com/notebooks/data_table.ipynb>data table notebook</a>'\n",
              "          + ' to learn more about interactive tables.';\n",
              "        element.innerHTML = '';\n",
              "        dataTable['output_type'] = 'display_data';\n",
              "        await google.colab.output.renderOutput(dataTable, element);\n",
              "        const docLink = document.createElement('div');\n",
              "        docLink.innerHTML = docLinkHtml;\n",
              "        element.appendChild(docLink);\n",
              "      }\n",
              "    </script>\n",
              "  </div>\n",
              "\n",
              "\n",
              "<div id=\"df-f91652ef-2119-472b-a3bb-530bf8636925\">\n",
              "  <button class=\"colab-df-quickchart\" onclick=\"quickchart('df-f91652ef-2119-472b-a3bb-530bf8636925')\"\n",
              "            title=\"Suggest charts\"\n",
              "            style=\"display:none;\">\n",
              "\n",
              "<svg xmlns=\"http://www.w3.org/2000/svg\" height=\"24px\"viewBox=\"0 0 24 24\"\n",
              "     width=\"24px\">\n",
              "    <g>\n",
              "        <path d=\"M19 3H5c-1.1 0-2 .9-2 2v14c0 1.1.9 2 2 2h14c1.1 0 2-.9 2-2V5c0-1.1-.9-2-2-2zM9 17H7v-7h2v7zm4 0h-2V7h2v10zm4 0h-2v-4h2v4z\"/>\n",
              "    </g>\n",
              "</svg>\n",
              "  </button>\n",
              "\n",
              "<style>\n",
              "  .colab-df-quickchart {\n",
              "      --bg-color: #E8F0FE;\n",
              "      --fill-color: #1967D2;\n",
              "      --hover-bg-color: #E2EBFA;\n",
              "      --hover-fill-color: #174EA6;\n",
              "      --disabled-fill-color: #AAA;\n",
              "      --disabled-bg-color: #DDD;\n",
              "  }\n",
              "\n",
              "  [theme=dark] .colab-df-quickchart {\n",
              "      --bg-color: #3B4455;\n",
              "      --fill-color: #D2E3FC;\n",
              "      --hover-bg-color: #434B5C;\n",
              "      --hover-fill-color: #FFFFFF;\n",
              "      --disabled-bg-color: #3B4455;\n",
              "      --disabled-fill-color: #666;\n",
              "  }\n",
              "\n",
              "  .colab-df-quickchart {\n",
              "    background-color: var(--bg-color);\n",
              "    border: none;\n",
              "    border-radius: 50%;\n",
              "    cursor: pointer;\n",
              "    display: none;\n",
              "    fill: var(--fill-color);\n",
              "    height: 32px;\n",
              "    padding: 0;\n",
              "    width: 32px;\n",
              "  }\n",
              "\n",
              "  .colab-df-quickchart:hover {\n",
              "    background-color: var(--hover-bg-color);\n",
              "    box-shadow: 0 1px 2px rgba(60, 64, 67, 0.3), 0 1px 3px 1px rgba(60, 64, 67, 0.15);\n",
              "    fill: var(--button-hover-fill-color);\n",
              "  }\n",
              "\n",
              "  .colab-df-quickchart-complete:disabled,\n",
              "  .colab-df-quickchart-complete:disabled:hover {\n",
              "    background-color: var(--disabled-bg-color);\n",
              "    fill: var(--disabled-fill-color);\n",
              "    box-shadow: none;\n",
              "  }\n",
              "\n",
              "  .colab-df-spinner {\n",
              "    border: 2px solid var(--fill-color);\n",
              "    border-color: transparent;\n",
              "    border-bottom-color: var(--fill-color);\n",
              "    animation:\n",
              "      spin 1s steps(1) infinite;\n",
              "  }\n",
              "\n",
              "  @keyframes spin {\n",
              "    0% {\n",
              "      border-color: transparent;\n",
              "      border-bottom-color: var(--fill-color);\n",
              "      border-left-color: var(--fill-color);\n",
              "    }\n",
              "    20% {\n",
              "      border-color: transparent;\n",
              "      border-left-color: var(--fill-color);\n",
              "      border-top-color: var(--fill-color);\n",
              "    }\n",
              "    30% {\n",
              "      border-color: transparent;\n",
              "      border-left-color: var(--fill-color);\n",
              "      border-top-color: var(--fill-color);\n",
              "      border-right-color: var(--fill-color);\n",
              "    }\n",
              "    40% {\n",
              "      border-color: transparent;\n",
              "      border-right-color: var(--fill-color);\n",
              "      border-top-color: var(--fill-color);\n",
              "    }\n",
              "    60% {\n",
              "      border-color: transparent;\n",
              "      border-right-color: var(--fill-color);\n",
              "    }\n",
              "    80% {\n",
              "      border-color: transparent;\n",
              "      border-right-color: var(--fill-color);\n",
              "      border-bottom-color: var(--fill-color);\n",
              "    }\n",
              "    90% {\n",
              "      border-color: transparent;\n",
              "      border-bottom-color: var(--fill-color);\n",
              "    }\n",
              "  }\n",
              "</style>\n",
              "\n",
              "  <script>\n",
              "    async function quickchart(key) {\n",
              "      const quickchartButtonEl =\n",
              "        document.querySelector('#' + key + ' button');\n",
              "      quickchartButtonEl.disabled = true;  // To prevent multiple clicks.\n",
              "      quickchartButtonEl.classList.add('colab-df-spinner');\n",
              "      try {\n",
              "        const charts = await google.colab.kernel.invokeFunction(\n",
              "            'suggestCharts', [key], {});\n",
              "      } catch (error) {\n",
              "        console.error('Error during call to suggestCharts:', error);\n",
              "      }\n",
              "      quickchartButtonEl.classList.remove('colab-df-spinner');\n",
              "      quickchartButtonEl.classList.add('colab-df-quickchart-complete');\n",
              "    }\n",
              "    (() => {\n",
              "      let quickchartButtonEl =\n",
              "        document.querySelector('#df-f91652ef-2119-472b-a3bb-530bf8636925 button');\n",
              "      quickchartButtonEl.style.display =\n",
              "        google.colab.kernel.accessAllowed ? 'block' : 'none';\n",
              "    })();\n",
              "  </script>\n",
              "</div>\n",
              "\n",
              "  <div id=\"id_5644f0bd-1c65-417f-8ef1-237e5af76775\">\n",
              "    <style>\n",
              "      .colab-df-generate {\n",
              "        background-color: #E8F0FE;\n",
              "        border: none;\n",
              "        border-radius: 50%;\n",
              "        cursor: pointer;\n",
              "        display: none;\n",
              "        fill: #1967D2;\n",
              "        height: 32px;\n",
              "        padding: 0 0 0 0;\n",
              "        width: 32px;\n",
              "      }\n",
              "\n",
              "      .colab-df-generate:hover {\n",
              "        background-color: #E2EBFA;\n",
              "        box-shadow: 0px 1px 2px rgba(60, 64, 67, 0.3), 0px 1px 3px 1px rgba(60, 64, 67, 0.15);\n",
              "        fill: #174EA6;\n",
              "      }\n",
              "\n",
              "      [theme=dark] .colab-df-generate {\n",
              "        background-color: #3B4455;\n",
              "        fill: #D2E3FC;\n",
              "      }\n",
              "\n",
              "      [theme=dark] .colab-df-generate:hover {\n",
              "        background-color: #434B5C;\n",
              "        box-shadow: 0px 1px 3px 1px rgba(0, 0, 0, 0.15);\n",
              "        filter: drop-shadow(0px 1px 2px rgba(0, 0, 0, 0.3));\n",
              "        fill: #FFFFFF;\n",
              "      }\n",
              "    </style>\n",
              "    <button class=\"colab-df-generate\" onclick=\"generateWithVariable('rets_df')\"\n",
              "            title=\"Generate code using this dataframe.\"\n",
              "            style=\"display:none;\">\n",
              "\n",
              "  <svg xmlns=\"http://www.w3.org/2000/svg\" height=\"24px\"viewBox=\"0 0 24 24\"\n",
              "       width=\"24px\">\n",
              "    <path d=\"M7,19H8.4L18.45,9,17,7.55,7,17.6ZM5,21V16.75L18.45,3.32a2,2,0,0,1,2.83,0l1.4,1.43a1.91,1.91,0,0,1,.58,1.4,1.91,1.91,0,0,1-.58,1.4L9.25,21ZM18.45,9,17,7.55Zm-12,3A5.31,5.31,0,0,0,4.9,8.1,5.31,5.31,0,0,0,1,6.5,5.31,5.31,0,0,0,4.9,4.9,5.31,5.31,0,0,0,6.5,1,5.31,5.31,0,0,0,8.1,4.9,5.31,5.31,0,0,0,12,6.5,5.46,5.46,0,0,0,6.5,12Z\"/>\n",
              "  </svg>\n",
              "    </button>\n",
              "    <script>\n",
              "      (() => {\n",
              "      const buttonEl =\n",
              "        document.querySelector('#id_5644f0bd-1c65-417f-8ef1-237e5af76775 button.colab-df-generate');\n",
              "      buttonEl.style.display =\n",
              "        google.colab.kernel.accessAllowed ? 'block' : 'none';\n",
              "\n",
              "      buttonEl.onclick = () => {\n",
              "        google.colab.notebook.generateWithVariable('rets_df');\n",
              "      }\n",
              "      })();\n",
              "    </script>\n",
              "  </div>\n",
              "\n",
              "    </div>\n",
              "  </div>\n"
            ],
            "application/vnd.google.colaboratory.intrinsic+json": {
              "type": "dataframe",
              "variable_name": "rets_df",
              "summary": "{\n  \"name\": \"rets_df\",\n  \"rows\": 11,\n  \"fields\": [\n    {\n      \"column\": \"Prior\",\n      \"properties\": {\n        \"dtype\": \"number\",\n        \"std\": 0.033834736360668,\n        \"min\": 0.012816708128494309,\n        \"max\": 0.1134999339614186,\n        \"num_unique_values\": 11,\n        \"samples\": [\n          0.046216829755666614,\n          0.048585748278575674,\n          0.07177091531685917\n        ],\n        \"semantic_type\": \"\",\n        \"description\": \"\"\n      }\n    },\n    {\n      \"column\": \"Posterior\",\n      \"properties\": {\n        \"dtype\": \"number\",\n        \"std\": 0.05582971913476086,\n        \"min\": 0.013943061232026384,\n        \"max\": 0.18722986911593018,\n        \"num_unique_values\": 11,\n        \"samples\": [\n          0.1328594714700363,\n          0.1075282619977641,\n          0.11268242246128575\n        ],\n        \"semantic_type\": \"\",\n        \"description\": \"\"\n      }\n    },\n    {\n      \"column\": \"Views\",\n      \"properties\": {\n        \"dtype\": \"number\",\n        \"std\": 0.05322604874384066,\n        \"min\": 0.02132419498553652,\n        \"max\": 0.19996127805886418,\n        \"num_unique_values\": 11,\n        \"samples\": [\n          0.17381838845859096,\n          0.15220946178456346,\n          0.11246511396783668\n        ],\n        \"semantic_type\": \"\",\n        \"description\": \"\"\n      }\n    }\n  ]\n}"
            }
          },
          "metadata": {},
          "execution_count": 127
        }
      ],
      "source": [
        "rets_df = pd.DataFrame([market_prior, ret_bl, pd.Series(viewdict)],\n",
        "             index=[\"Prior\", \"Posterior\", \"Views\"]).T\n",
        "rets_df"
      ]
    },
    {
      "cell_type": "code",
      "execution_count": 128,
      "metadata": {
        "id": "n55wKWFuAbNp",
        "colab": {
          "base_uri": "https://localhost:8080/",
          "height": 698
        },
        "outputId": "15a7f448-5c23-48c1-dfa4-c814bd8d9b67"
      },
      "outputs": [
        {
          "output_type": "display_data",
          "data": {
            "text/plain": [
              "<Figure size 1200x800 with 1 Axes>"
            ],
            "image/png": "[encoded data removed]"
          },
          "metadata": {}
        }
      ],
      "source": [
        "rets_df.plot.bar(figsize=(12,8));"
      ]
    },
    {
      "cell_type": "markdown",
      "metadata": {
        "id": "fuizxt0NAbNp"
      },
      "source": [
        "Notice that the posterior is often between the prior and the views. This supports the fact that the BL method is essentially a Bayesian weighted-average of the prior and views, where the weight is determined by the confidence.\n",
        "\n",
        "A similar but less intuitive procedure can be used to produce the posterior covariance estimate:"
      ]
    },
    {
      "cell_type": "code",
      "execution_count": 129,
      "metadata": {
        "id": "i6S1l2-aAbNp",
        "colab": {
          "base_uri": "https://localhost:8080/",
          "height": 487
        },
        "outputId": "0f9add52-486c-4812-831d-321809ce9e06"
      },
      "outputs": [
        {
          "output_type": "display_data",
          "data": {
            "text/plain": [
              "<Figure size 640x480 with 2 Axes>"
            ],
            "image/png": "[encoded data removed]"
          },
          "metadata": {}
        }
      ],
      "source": [
        "S_bl = bl.bl_cov()\n",
        "plotting.plot_covariance(S_bl);"
      ]
    },
    {
      "cell_type": "markdown",
      "metadata": {
        "id": "YC9fNRAbAbNp"
      },
      "source": [
        "## Portfolio allocation\n",
        "\n",
        "Now that we have constructed our Black-Litterman posterior estimate, we can proceed to use any of the optimizers discussed in previous recipes."
      ]
    },
    {
      "cell_type": "code",
      "execution_count": 130,
      "metadata": {
        "id": "hDS0vIUCAbNp"
      },
      "outputs": [],
      "source": [
        "from pypfopt import EfficientFrontier, objective_functions"
      ]
    },
    {
      "cell_type": "code",
      "execution_count": 131,
      "metadata": {
        "id": "qylII3-oAbNp",
        "colab": {
          "base_uri": "https://localhost:8080/"
        },
        "outputId": "c6106689-042d-4e14-98d6-a2940a2ba9c6"
      },
      "outputs": [
        {
          "output_type": "stream",
          "name": "stderr",
          "text": [
            "/usr/local/lib/python3.10/dist-packages/pypfopt/efficient_frontier/efficient_frontier.py:259: UserWarning: max_sharpe transforms the optimization problem so additional objectives may not work as expected.\n",
            "  warnings.warn(\n"
          ]
        },
        {
          "output_type": "execute_result",
          "data": {
            "text/plain": [
              "OrderedDict([('INDY', 0.08314),\n",
              "             ('IWD', 0.10608),\n",
              "             ('IWN', 0.1172),\n",
              "             ('IWO', 0.125),\n",
              "             ('MBB', 0.00304),\n",
              "             ('MCHI', 0.11245),\n",
              "             ('TLT', 0.00127),\n",
              "             ('XLE', 0.10139),\n",
              "             ('XLF', 0.14608),\n",
              "             ('XLV', 0.0818),\n",
              "             ('XLY', 0.12255)])"
            ]
          },
          "metadata": {},
          "execution_count": 131
        }
      ],
      "source": [
        "ef = EfficientFrontier(ret_bl, S_bl)\n",
        "ef.add_objective(objective_functions.L2_reg)\n",
        "ef.max_sharpe()\n",
        "weights = ef.clean_weights()\n",
        "weights"
      ]
    },
    {
      "cell_type": "code",
      "execution_count": 132,
      "metadata": {
        "id": "9_pWobQoAbNq",
        "colab": {
          "base_uri": "https://localhost:8080/",
          "height": 807
        },
        "outputId": "a35acc50-892d-4621-af64-d0d36c13b8c0"
      },
      "outputs": [
        {
          "output_type": "display_data",
          "data": {
            "text/plain": [
              "<Figure size 1000x1000 with 1 Axes>"
            ],
            "image/png": "[encoded data removed]"
          },
          "metadata": {}
        }
      ],
      "source": [
        "pd.Series(weights).plot.pie(figsize=(10,10,),autopct='%1.1f%%');"
      ]
    },
    {
      "cell_type": "code",
      "execution_count": 133,
      "metadata": {
        "id": "8YHugSK8AbNq",
        "colab": {
          "base_uri": "https://localhost:8080/"
        },
        "outputId": "8e60632f-d95f-4c3b-ad56-7a5f43adb62a"
      },
      "outputs": [
        {
          "output_type": "stream",
          "name": "stdout",
          "text": [
            "Leftover: $105.20\n"
          ]
        },
        {
          "output_type": "execute_result",
          "data": {
            "text/plain": [
              "{'INDY': 9058,\n",
              " 'IWD': 3357,\n",
              " 'IWN': 4260,\n",
              " 'IWO': 2651,\n",
              " 'MBB': 193,\n",
              " 'MCHI': 11837,\n",
              " 'TLT': 80,\n",
              " 'XLE': 6529,\n",
              " 'XLF': 19200,\n",
              " 'XLV': 3237,\n",
              " 'XLY': 3710}"
            ]
          },
          "metadata": {},
          "execution_count": 133
        }
      ],
      "source": [
        "from pypfopt import DiscreteAllocation\n",
        "\n",
        "da = DiscreteAllocation(weights, prices.iloc[-1], total_portfolio_value=6000000)\n",
        "alloc, leftover = da.lp_portfolio()\n",
        "print(f\"Leftover: ${leftover:.2f}\")\n",
        "alloc"
      ]
    }
  ],
  "metadata": {
    "kernelspec": {
      "display_name": "Python 3",
      "name": "python3"
    },
    "language_info": {
      "name": "python"
    },
    "colab": {
      "provenance": [],
      "include_colab_link": true
    }
  },
  "nbformat": 4,
  "nbformat_minor": 0
}